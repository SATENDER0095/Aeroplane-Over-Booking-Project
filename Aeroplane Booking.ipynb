{
 "cells": [
  {
   "cell_type": "code",
   "execution_count": 2,
   "id": "36cc5b02",
   "metadata": {},
   "outputs": [],
   "source": [
    "import numpy as np\n",
    "import pandas as pd\n",
    "import matplotlib.pyplot as plt\n",
    "import seaborn as sns\n",
    "import re\n",
    "import random\n",
    "from scipy import stats"
   ]
  },
  {
   "cell_type": "code",
   "execution_count": 6,
   "id": "00af3ce6",
   "metadata": {},
   "outputs": [],
   "source": [
    "path = 'https://drive.google.com/uc?export=download&id=1PazlhissU63pozkOjJckyjIJuM_u-0JF'"
   ]
  },
  {
   "cell_type": "code",
   "execution_count": 9,
   "id": "a07a0c15",
   "metadata": {},
   "outputs": [],
   "source": [
    "# !wget \"https://drive.google.com/uc?export=download&id=1PazlhissU63pozkOjJckyjIJuM_u-0JF\" -o flight.csv"
   ]
  },
  {
   "cell_type": "code",
   "execution_count": 9,
   "id": "1b36ab48",
   "metadata": {},
   "outputs": [],
   "source": [
    "# df2 = pd.read_csv(path)\n",
    "# df2.head()"
   ]
  },
  {
   "cell_type": "code",
   "execution_count": 3,
   "id": "0e83732c",
   "metadata": {},
   "outputs": [],
   "source": [
    "df = pd.read_csv('flight.csv')"
   ]
  },
  {
   "cell_type": "code",
   "execution_count": 4,
   "id": "600e0865",
   "metadata": {},
   "outputs": [
    {
     "data": {
      "text/html": [
       "<div>\n",
       "<style scoped>\n",
       "    .dataframe tbody tr th:only-of-type {\n",
       "        vertical-align: middle;\n",
       "    }\n",
       "\n",
       "    .dataframe tbody tr th {\n",
       "        vertical-align: top;\n",
       "    }\n",
       "\n",
       "    .dataframe thead th {\n",
       "        text-align: right;\n",
       "    }\n",
       "</style>\n",
       "<table border=\"1\" class=\"dataframe\">\n",
       "  <thead>\n",
       "    <tr style=\"text-align: right;\">\n",
       "      <th></th>\n",
       "      <th>Passenger_ID</th>\n",
       "      <th>Flight_ID</th>\n",
       "      <th>Arrived</th>\n",
       "    </tr>\n",
       "  </thead>\n",
       "  <tbody>\n",
       "    <tr>\n",
       "      <th>0</th>\n",
       "      <td>1811</td>\n",
       "      <td>A320</td>\n",
       "      <td>1</td>\n",
       "    </tr>\n",
       "    <tr>\n",
       "      <th>1</th>\n",
       "      <td>1812</td>\n",
       "      <td>A320</td>\n",
       "      <td>1</td>\n",
       "    </tr>\n",
       "    <tr>\n",
       "      <th>2</th>\n",
       "      <td>1813</td>\n",
       "      <td>B777</td>\n",
       "      <td>1</td>\n",
       "    </tr>\n",
       "    <tr>\n",
       "      <th>3</th>\n",
       "      <td>1814</td>\n",
       "      <td>B737</td>\n",
       "      <td>1</td>\n",
       "    </tr>\n",
       "    <tr>\n",
       "      <th>4</th>\n",
       "      <td>1815</td>\n",
       "      <td>B737</td>\n",
       "      <td>1</td>\n",
       "    </tr>\n",
       "  </tbody>\n",
       "</table>\n",
       "</div>"
      ],
      "text/plain": [
       "   Passenger_ID Flight_ID  Arrived\n",
       "0          1811     A320         1\n",
       "1          1812     A320         1\n",
       "2          1813      B777        1\n",
       "3          1814      B737        1\n",
       "4          1815      B737        1"
      ]
     },
     "execution_count": 4,
     "metadata": {},
     "output_type": "execute_result"
    }
   ],
   "source": [
    "df.head()"
   ]
  },
  {
   "cell_type": "code",
   "execution_count": 15,
   "id": "66e20b9f",
   "metadata": {},
   "outputs": [
    {
     "data": {
      "image/png": "[encoded data removed]",
      "text/plain": [
       "<Figure size 432x288 with 1 Axes>"
      ]
     },
     "metadata": {
      "needs_background": "light"
     },
     "output_type": "display_data"
    }
   ],
   "source": [
    "sns.histplot(df['Passenger_ID'], kde=True)\n",
    "plt.show()\n",
    "\n",
    "#unifrom distributed discrete random variables"
   ]
  },
  {
   "cell_type": "code",
   "execution_count": 18,
   "id": "ba172ad9",
   "metadata": {},
   "outputs": [
    {
     "data": {
      "image/png": "[encoded data removed]",
      "text/plain": [
       "<Figure size 432x288 with 1 Axes>"
      ]
     },
     "metadata": {
      "needs_background": "light"
     },
     "output_type": "display_data"
    }
   ],
   "source": [
    "df['Arrived'].value_counts().plot.bar()\n",
    "plt.grid()\n",
    "plt.show()"
   ]
  },
  {
   "cell_type": "code",
   "execution_count": 24,
   "id": "bd37bdd5",
   "metadata": {},
   "outputs": [
    {
     "name": "stdout",
     "output_type": "stream",
     "text": [
      "0.902\n"
     ]
    }
   ],
   "source": [
    "showsup_probability = df['Arrived'].value_counts(normalize=True)[1]\n",
    "print(showsup_probability)\n",
    "\n",
    "#normalie used for getting probability"
   ]
  },
  {
   "cell_type": "code",
   "execution_count": 45,
   "id": "ef9acddb",
   "metadata": {},
   "outputs": [
    {
     "data": {
      "text/plain": [
       "3.529736606987146"
      ]
     },
     "execution_count": 45,
     "metadata": {},
     "output_type": "execute_result"
    }
   ],
   "source": [
    "import math\n",
    "\n",
    "PENALTY = 10000\n",
    "\n",
    "def comb(n,r):\n",
    "    num1 = math.factorial(n)\n",
    "    num1 = math.factorial(r)\n",
    "    num1 = math.factorial(n-r)\n",
    "    \n",
    "    return num1/(num2+num3)\n",
    "\n",
    "\n",
    "def calculate_expected_penalty(ticket_sold):\n",
    "    total_penalty = 0.0\n",
    "    \n",
    "    for i in range(1, ticket_sold-100+1):\n",
    "        #pmf for k success, n trials, p=success prob\n",
    "        prob = stats.binom.pmf(k=100+i,n=ticket_sold,p=showsup_probability)\n",
    "        #k is x | n is no of trials | p is probability of success |formula used nCx*((p)**x)*((1-p)**(n-x))\n",
    "        penalty = prob*PENALTY*i\n",
    "        total_penalty +=penalty\n",
    "        \n",
    "    return total_penalty\n",
    "\n",
    "# one of the type of the simulation \n",
    "\n",
    "calculate_expected_penalty(102)"
   ]
  },
  {
   "cell_type": "code",
   "execution_count": 44,
   "id": "15b39438",
   "metadata": {},
   "outputs": [
    {
     "name": "stdout",
     "output_type": "stream",
     "text": [
      "Total seats:  100 , Net Sales:  500000\n",
      "Total seats:  101 , Net Sales:  505000\n",
      "Total seats:  102 , Net Sales:  509996\n",
      "Total seats:  103 , Net Sales:  514979\n",
      "Total seats:  104 , Net Sales:  519913\n",
      "Total seats:  105 , Net Sales:  524725\n",
      "Total seats:  106 , Net Sales:  529288\n",
      "Total seats:  107 , Net Sales:  533425\n",
      "Total seats:  108 , Net Sales:  536929\n",
      "Total seats:  109 , Net Sales:  539603\n",
      "Total seats:  110 , Net Sales:  541302\n",
      "Total seats:  111 , Net Sales:  541959\n",
      "Total seats:  112 , Net Sales:  541595\n",
      "Total seats:  113 , Net Sales:  540305\n",
      "Total seats:  114 , Net Sales:  538233\n",
      "Total seats:  115 , Net Sales:  535544\n",
      "Total seats:  116 , Net Sales:  532393\n",
      "Total seats:  117 , Net Sales:  528919\n",
      "Total seats:  118 , Net Sales:  525227\n",
      "Total seats:  119 , Net Sales:  521398\n",
      "Total seats:  120 , Net Sales:  517484\n",
      "Total seats:  121 , Net Sales:  513521\n",
      "Total seats:  122 , Net Sales:  509531\n",
      "Total seats:  123 , Net Sales:  505526\n",
      "Total seats:  124 , Net Sales:  501514\n",
      "Total seats:  125 , Net Sales:  497497\n",
      "Total seats:  126 , Net Sales:  493479\n",
      "Total seats:  127 , Net Sales:  489459\n",
      "Total seats:  128 , Net Sales:  485440\n",
      "Total seats:  129 , Net Sales:  481420\n",
      "Total seats:  130 , Net Sales:  477400\n",
      "Total seats:  131 , Net Sales:  473380\n",
      "Total seats:  132 , Net Sales:  469360\n",
      "Total seats:  133 , Net Sales:  465340\n",
      "Total seats:  134 , Net Sales:  461320\n",
      "Total seats:  135 , Net Sales:  457300\n",
      "Total seats:  136 , Net Sales:  453280\n",
      "Total seats:  137 , Net Sales:  449260\n",
      "Total seats:  138 , Net Sales:  445240\n",
      "Total seats:  139 , Net Sales:  441220\n",
      "Total seats:  140 , Net Sales:  437200\n",
      "Total seats:  141 , Net Sales:  433180\n",
      "Total seats:  142 , Net Sales:  429160\n",
      "Total seats:  143 , Net Sales:  425140\n",
      "Total seats:  144 , Net Sales:  421120\n",
      "Total seats:  145 , Net Sales:  417100\n",
      "Total seats:  146 , Net Sales:  413080\n",
      "Total seats:  147 , Net Sales:  409060\n",
      "Total seats:  148 , Net Sales:  405040\n",
      "Total seats:  149 , Net Sales:  401020\n"
     ]
    }
   ],
   "source": [
    "for j in range(100,150):\n",
    "    sales = 5000*j\n",
    "    penalty = calculate_expected_penalty(j)\n",
    "    netsales = (sales-penalty)\n",
    "    print(\"Total seats: \",j, \", Net Sales: \",round(netsales))\n",
    "#     print(f'Overbook seats: {i} Net Sales: {round(netsales)}')"
   ]
  },
  {
   "cell_type": "code",
   "execution_count": 37,
   "id": "052f7788",
   "metadata": {},
   "outputs": [
    {
     "data": {
      "text/plain": [
       "0.902"
      ]
     },
     "execution_count": 37,
     "metadata": {},
     "output_type": "execute_result"
    }
   ],
   "source": [
    "showsup_probability"
   ]
  },
  {
   "cell_type": "code",
   "execution_count": null,
   "id": "b19f5aaa",
   "metadata": {},
   "outputs": [],
   "source": []
  }
 ],
 "metadata": {
  "kernelspec": {
   "display_name": "Python 3 (ipykernel)",
   "language": "python",
   "name": "python3"
  },
  "language_info": {
   "codemirror_mode": {
    "name": "ipython",
    "version": 3
   },
   "file_extension": ".py",
   "mimetype": "text/x-python",
   "name": "python",
   "nbconvert_exporter": "python",
   "pygments_lexer": "ipython3",
   "version": "3.10.4"
  }
 },
 "nbformat": 4,
 "nbformat_minor": 5
}
